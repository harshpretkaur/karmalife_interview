{
 "cells": [
  {
   "cell_type": "code",
   "execution_count": 1,
   "id": "16c2bc8f",
   "metadata": {},
   "outputs": [],
   "source": [
    "# Write a function that accepts a string and returns a mapping (a dictionary or dictionary-like structure) \n",
    "# that has words as the keys and the number of times each word was seen as the values.\n",
    "\n",
    "# Your function should work like this:\n",
    "\n",
    "# >>> count_words(\"oh what a day what a lovely day\")\n",
    "# {'oh': 1, 'what': 2, 'a': 2, 'day': 2, 'lovely': 1}\n",
    "# >>> count_words(\"don't stop believing\")\n",
    "# {\"don't\": 1, 'stop': 1, 'believing': 1}\n",
    "\n",
    "# Try to cover as many corner cases possible :)"
   ]
  },
  {
   "cell_type": "code",
   "execution_count": 8,
   "id": "edfacf95",
   "metadata": {},
   "outputs": [],
   "source": [
    "import regex as re"
   ]
  },
  {
   "cell_type": "code",
   "execution_count": 86,
   "id": "9a48ebe8",
   "metadata": {},
   "outputs": [],
   "source": [
    "sample=\"oh what a day What a *** lovely's day\\n  wasn't*\"\n",
    "def split_counter(text):\n",
    "    d={} \n",
    "    text=text.replace(\"'\",\"\") ##taking care of apostrophe to preserve meaning of words\n",
    "    text=re.sub(r'[^\\w\\s]', ' ', text) ###removing special characters\n",
    "    text=text.lower()  ###not repeating same words but misleading uppercase or lowercase \n",
    "    text=' '.join(text.split()) ####replacing multiple spaces with a single space after removal of special chars\n",
    "    text=text.strip() ##### removing extra spaces from beginning and end\n",
    "    lst=text.split(\" \") #### converting string to list for ease of computation\n",
    "    for i in lst:\n",
    "        d[i]=lst.count(i) ###assigning key value pairs\n",
    "    return d"
   ]
  },
  {
   "cell_type": "code",
   "execution_count": 87,
   "id": "78c3c090",
   "metadata": {},
   "outputs": [
    {
     "name": "stdout",
     "output_type": "stream",
     "text": [
      "{'oh': 1, 'what': 2, 'a': 2, 'day': 2, 'lovelys': 1, 'wasnt': 1}\n"
     ]
    }
   ],
   "source": [
    "print(split_counter(sample))"
   ]
  },
  {
   "cell_type": "code",
   "execution_count": null,
   "id": "3e90658a",
   "metadata": {},
   "outputs": [],
   "source": []
  }
 ],
 "metadata": {
  "kernelspec": {
   "display_name": "Python 3 (ipykernel)",
   "language": "python",
   "name": "python3"
  },
  "language_info": {
   "codemirror_mode": {
    "name": "ipython",
    "version": 3
   },
   "file_extension": ".py",
   "mimetype": "text/x-python",
   "name": "python",
   "nbconvert_exporter": "python",
   "pygments_lexer": "ipython3",
   "version": "3.9.5"
  }
 },
 "nbformat": 4,
 "nbformat_minor": 5
}
